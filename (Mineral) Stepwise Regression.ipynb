{
 "cells": [
  {
   "cell_type": "code",
   "execution_count": 8,
   "id": "100d0d14",
   "metadata": {},
   "outputs": [
    {
     "name": "stdout",
     "output_type": "stream",
     "text": [
      "Fauzan\n",
      "Fandi\n",
      "Rizqi\n"
     ]
    }
   ],
   "source": [
    "#for loop - to iterate in a sequance\n",
    "list = ['Fauzan', 'Norma', 'Fandi', 'Rizqi']\n",
    "\n",
    "for i in list :\n",
    "    if i == 'Norma' :\n",
    "        continue \n",
    "    print(i) # print each single name in list\n",
    "    \n"
   ]
  },
  {
   "cell_type": "code",
   "execution_count": 14,
   "id": "75e2337b",
   "metadata": {},
   "outputs": [],
   "source": [
    "list_2 = [[1,2,3,4]]"
   ]
  },
  {
   "cell_type": "code",
   "execution_count": 15,
   "id": "681499b2",
   "metadata": {},
   "outputs": [
    {
     "ename": "AttributeError",
     "evalue": "'list' object has no attribute 'shape'",
     "output_type": "error",
     "traceback": [
      "\u001b[1;31m---------------------------------------------------------------------------\u001b[0m",
      "\u001b[1;31mAttributeError\u001b[0m                            Traceback (most recent call last)",
      "Input \u001b[1;32mIn [15]\u001b[0m, in \u001b[0;36m<cell line: 1>\u001b[1;34m()\u001b[0m\n\u001b[1;32m----> 1\u001b[0m \u001b[43mlist_2\u001b[49m\u001b[38;5;241;43m.\u001b[39;49m\u001b[43mshape\u001b[49m()\n",
      "\u001b[1;31mAttributeError\u001b[0m: 'list' object has no attribute 'shape'"
     ]
    }
   ],
   "source": [
    "list_2.shape()"
   ]
  },
  {
   "cell_type": "markdown",
   "id": "ece67454",
   "metadata": {},
   "source": [
    "#skip norma, and then continue print the other name after \"Fauzan\""
   ]
  },
  {
   "cell_type": "code",
   "execution_count": null,
   "id": "917bb3b6",
   "metadata": {},
   "outputs": [],
   "source": []
  },
  {
   "cell_type": "code",
   "execution_count": 6,
   "id": "f9ad5c7e",
   "metadata": {},
   "outputs": [],
   "source": [
    "def linear (a, b):\n",
    "    z = a+b\n",
    "    q = b*a\n",
    "    result = z+q\n",
    "    return result"
   ]
  },
  {
   "cell_type": "code",
   "execution_count": 7,
   "id": "692a5989",
   "metadata": {},
   "outputs": [
    {
     "data": {
      "text/plain": [
       "41"
      ]
     },
     "execution_count": 7,
     "metadata": {},
     "output_type": "execute_result"
    }
   ],
   "source": [
    "linear(5,6)"
   ]
  },
  {
   "cell_type": "code",
   "execution_count": 23,
   "id": "ae851633",
   "metadata": {},
   "outputs": [],
   "source": [
    "def nonlinear(a,b) :\n",
    "    if a > 5 :\n",
    "        print('Not Working')\n",
    "    elif b == 2:\n",
    "        print ('Fi you')\n",
    "    else :\n",
    "        z = a*b\n",
    "    return z\n",
    "    "
   ]
  },
  {
   "cell_type": "markdown",
   "id": "d3545796",
   "metadata": {},
   "source": [
    "# Data Loading"
   ]
  },
  {
   "cell_type": "code",
   "execution_count": 1,
   "id": "a38c1d09",
   "metadata": {},
   "outputs": [],
   "source": [
    "import pandas as pd\n",
    "import matplotlib as plt"
   ]
  },
  {
   "cell_type": "code",
   "execution_count": 4,
   "id": "b590cdac",
   "metadata": {},
   "outputs": [],
   "source": [
    "df = pd.read_csv('D:/Trial/Trial Sentinel Nutrient Status/Safari Riau Sentinel 2 Fix/2021_SR/Vegetation Index/Mineral_VI2.csv')"
   ]
  },
  {
   "cell_type": "code",
   "execution_count": 5,
   "id": "5ea7b842",
   "metadata": {},
   "outputs": [
    {
     "data": {
      "text/html": [
       "<div>\n",
       "<style scoped>\n",
       "    .dataframe tbody tr th:only-of-type {\n",
       "        vertical-align: middle;\n",
       "    }\n",
       "\n",
       "    .dataframe tbody tr th {\n",
       "        vertical-align: top;\n",
       "    }\n",
       "\n",
       "    .dataframe thead th {\n",
       "        text-align: right;\n",
       "    }\n",
       "</style>\n",
       "<table border=\"1\" class=\"dataframe\">\n",
       "  <thead>\n",
       "    <tr style=\"text-align: right;\">\n",
       "      <th></th>\n",
       "      <th>SAVI</th>\n",
       "      <th>MSAVI1</th>\n",
       "      <th>MSAVI2</th>\n",
       "      <th>NDVI</th>\n",
       "      <th>GNDVI</th>\n",
       "      <th>ARVI</th>\n",
       "      <th>CI_RE</th>\n",
       "      <th>NDVI_RE</th>\n",
       "      <th>N</th>\n",
       "    </tr>\n",
       "  </thead>\n",
       "  <tbody>\n",
       "    <tr>\n",
       "      <th>0</th>\n",
       "      <td>0.561590</td>\n",
       "      <td>0.518594</td>\n",
       "      <td>0.586838</td>\n",
       "      <td>0.861354</td>\n",
       "      <td>0.764891</td>\n",
       "      <td>0.853762</td>\n",
       "      <td>0.266575</td>\n",
       "      <td>0.34355</td>\n",
       "      <td>2.67</td>\n",
       "    </tr>\n",
       "    <tr>\n",
       "      <th>1</th>\n",
       "      <td>0.560762</td>\n",
       "      <td>0.516527</td>\n",
       "      <td>0.586649</td>\n",
       "      <td>0.873661</td>\n",
       "      <td>0.774482</td>\n",
       "      <td>0.870025</td>\n",
       "      <td>0.266625</td>\n",
       "      <td>0.34520</td>\n",
       "      <td>2.47</td>\n",
       "    </tr>\n",
       "    <tr>\n",
       "      <th>2</th>\n",
       "      <td>0.554815</td>\n",
       "      <td>0.508985</td>\n",
       "      <td>0.578110</td>\n",
       "      <td>0.877120</td>\n",
       "      <td>0.788915</td>\n",
       "      <td>0.876135</td>\n",
       "      <td>0.270700</td>\n",
       "      <td>0.34785</td>\n",
       "      <td>2.44</td>\n",
       "    </tr>\n",
       "    <tr>\n",
       "      <th>3</th>\n",
       "      <td>0.554929</td>\n",
       "      <td>0.509721</td>\n",
       "      <td>0.578393</td>\n",
       "      <td>0.872033</td>\n",
       "      <td>0.780502</td>\n",
       "      <td>0.871657</td>\n",
       "      <td>0.270500</td>\n",
       "      <td>0.35790</td>\n",
       "      <td>2.38</td>\n",
       "    </tr>\n",
       "    <tr>\n",
       "      <th>4</th>\n",
       "      <td>0.569649</td>\n",
       "      <td>0.527532</td>\n",
       "      <td>0.599213</td>\n",
       "      <td>0.871600</td>\n",
       "      <td>0.787134</td>\n",
       "      <td>0.863433</td>\n",
       "      <td>0.274625</td>\n",
       "      <td>0.35550</td>\n",
       "      <td>2.42</td>\n",
       "    </tr>\n",
       "  </tbody>\n",
       "</table>\n",
       "</div>"
      ],
      "text/plain": [
       "       SAVI    MSAVI1    MSAVI2      NDVI     GNDVI      ARVI     CI_RE  \\\n",
       "0  0.561590  0.518594  0.586838  0.861354  0.764891  0.853762  0.266575   \n",
       "1  0.560762  0.516527  0.586649  0.873661  0.774482  0.870025  0.266625   \n",
       "2  0.554815  0.508985  0.578110  0.877120  0.788915  0.876135  0.270700   \n",
       "3  0.554929  0.509721  0.578393  0.872033  0.780502  0.871657  0.270500   \n",
       "4  0.569649  0.527532  0.599213  0.871600  0.787134  0.863433  0.274625   \n",
       "\n",
       "   NDVI_RE     N  \n",
       "0  0.34355  2.67  \n",
       "1  0.34520  2.47  \n",
       "2  0.34785  2.44  \n",
       "3  0.35790  2.38  \n",
       "4  0.35550  2.42  "
      ]
     },
     "execution_count": 5,
     "metadata": {},
     "output_type": "execute_result"
    }
   ],
   "source": [
    "df.head()"
   ]
  },
  {
   "cell_type": "code",
   "execution_count": 4,
   "id": "2d922c52",
   "metadata": {},
   "outputs": [],
   "source": [
    "##rename column\n",
    "#g= c.rename(columns = {'leaf_area_':'leaf_area_index'\n",
    "                      #, 'frond_dry_': 'frond_dry_weight'})\n",
    "\n",
    "##Drop unecessary column\n",
    "#df = g.drop(labels = ['manuring_b', 'Tanah'], axis = 1)"
   ]
  },
  {
   "cell_type": "code",
   "execution_count": 6,
   "id": "55135446",
   "metadata": {},
   "outputs": [],
   "source": [
    "##Calculating correlation over variable\n",
    "import seaborn as sns"
   ]
  },
  {
   "cell_type": "code",
   "execution_count": 6,
   "id": "36938538",
   "metadata": {},
   "outputs": [
    {
     "data": {
      "text/plain": [
       "Text(0.5, 1.0, 'Correlation Variables')"
      ]
     },
     "execution_count": 6,
     "metadata": {},
     "output_type": "execute_result"
    },
    {
     "data": {
      "image/png": "[encoded data removed]",
      "text/plain": [
       "<Figure size 1600x600 with 2 Axes>"
      ]
     },
     "metadata": {},
     "output_type": "display_data"
    }
   ],
   "source": [
    "##creating rectangular heatmap\n",
    "plt.pyplot.figure(figsize=(16,6))\n",
    "heatmap =sns.heatmap(df.corr(), vmin= -1,\n",
    "           vmax = 1, annot=True, cmap = 'coolwarm')\n",
    "heatmap.set_title('Correlation Variables', fontdict={'fontsize' : 12}, pad=12)"
   ]
  },
  {
   "cell_type": "code",
   "execution_count": 7,
   "id": "c7fc5dc8",
   "metadata": {},
   "outputs": [],
   "source": [
    "##creating triangle heatmap\n",
    "import numpy as np"
   ]
  },
  {
   "cell_type": "code",
   "execution_count": 8,
   "id": "ccc53ff1",
   "metadata": {},
   "outputs": [],
   "source": [
    "##masking the upper triangle using np.triu which have 1 value (np.ones_like)\n",
    "mask = np.triu(np.ones_like(df.corr()))"
   ]
  },
  {
   "cell_type": "code",
   "execution_count": 9,
   "id": "3725b54e",
   "metadata": {},
   "outputs": [
    {
     "data": {
      "text/plain": [
       "Text(0.5, 1.0, 'Correlation Variables')"
      ]
     },
     "execution_count": 9,
     "metadata": {},
     "output_type": "execute_result"
    },
    {
     "data": {
      "image/png": "[encoded data removed]",
      "text/plain": [
       "<Figure size 1600x600 with 2 Axes>"
      ]
     },
     "metadata": {},
     "output_type": "display_data"
    }
   ],
   "source": [
    "#correlation\n",
    "plt.pyplot.figure(figsize=(16,6))\n",
    "heatmap =sns.heatmap(df.corr(), vmin= -1,\n",
    "           vmax = 1, mask=mask,annot=True, cmap = 'coolwarm')\n",
    "heatmap.set_title('Correlation Variables', fontdict={'fontsize' : 12}, pad=25)"
   ]
  },
  {
   "cell_type": "markdown",
   "id": "a51408d3",
   "metadata": {},
   "source": [
    "MSAVI and CI_RE might be good for N prediction even though the correlation is moderate"
   ]
  },
  {
   "cell_type": "code",
   "execution_count": 11,
   "id": "c15ab04c",
   "metadata": {},
   "outputs": [
    {
     "data": {
      "text/plain": [
       "<Figure size 640x480 with 0 Axes>"
      ]
     },
     "metadata": {},
     "output_type": "display_data"
    }
   ],
   "source": [
    "#save heatmap as png\n",
    "plt.pyplot.savefig('heatmap.png', dpi = 300, bbox_inches = 'tight')"
   ]
  },
  {
   "cell_type": "markdown",
   "id": "211e4587",
   "metadata": {},
   "source": [
    "# Data Visualization"
   ]
  },
  {
   "cell_type": "code",
   "execution_count": null,
   "id": "f3c5bd70",
   "metadata": {
    "scrolled": false
   },
   "outputs": [],
   "source": [
    "#single displot per variable \n",
    "sns.displot(df[['B5']],kind = 'kde')\n",
    "sns.displot(df[['B3']], kind = 'kde')\n",
    "sns.displot(df[['B2']], kind = 'kde')\n",
    "plt.pyplot.show()\n"
   ]
  },
  {
   "cell_type": "markdown",
   "id": "c1a941a5",
   "metadata": {},
   "source": [
    "# Stepwise Regression for N"
   ]
  },
  {
   "cell_type": "code",
   "execution_count": 10,
   "id": "292f135d",
   "metadata": {},
   "outputs": [
    {
     "name": "stdout",
     "output_type": "stream",
     "text": [
      "<class 'pandas.core.frame.DataFrame'>\n",
      "RangeIndex: 14 entries, 0 to 13\n",
      "Data columns (total 13 columns):\n",
      " #   Column   Non-Null Count  Dtype  \n",
      "---  ------   --------------  -----  \n",
      " 0   SAVI     14 non-null     float64\n",
      " 1   MSAVI1   14 non-null     float64\n",
      " 2   MSAVI2   14 non-null     float64\n",
      " 3   NDVI     14 non-null     float64\n",
      " 4   GNDVI    14 non-null     float64\n",
      " 5   ARVI     14 non-null     float64\n",
      " 6   CI_RE    14 non-null     float64\n",
      " 7   NDVI_RE  14 non-null     float64\n",
      " 8   N        14 non-null     float64\n",
      " 9   P        14 non-null     float64\n",
      " 10  K        14 non-null     float64\n",
      " 11  Ca       14 non-null     float64\n",
      " 12  Mg       14 non-null     float64\n",
      "dtypes: float64(13)\n",
      "memory usage: 1.5 KB\n"
     ]
    }
   ],
   "source": [
    "#Getting info\n",
    "df.info()"
   ]
  },
  {
   "cell_type": "code",
   "execution_count": 14,
   "id": "89971be5",
   "metadata": {},
   "outputs": [],
   "source": [
    "#drop no need column for N prediction\n",
    "nodata = ['leaf_area', 'leaf_area_index', 'frond_dry_weight', 'P', 'K', 'Ca', 'Mg'] \n",
    "#df_n = df.drop(labels = nodata, axis = 1)\n"
   ]
  },
  {
   "cell_type": "code",
   "execution_count": 21,
   "id": "4883937c",
   "metadata": {},
   "outputs": [
    {
     "data": {
      "text/html": [
       "<div>\n",
       "<style scoped>\n",
       "    .dataframe tbody tr th:only-of-type {\n",
       "        vertical-align: middle;\n",
       "    }\n",
       "\n",
       "    .dataframe tbody tr th {\n",
       "        vertical-align: top;\n",
       "    }\n",
       "\n",
       "    .dataframe thead th {\n",
       "        text-align: right;\n",
       "    }\n",
       "</style>\n",
       "<table border=\"1\" class=\"dataframe\">\n",
       "  <thead>\n",
       "    <tr style=\"text-align: right;\">\n",
       "      <th></th>\n",
       "      <th>SAVI</th>\n",
       "      <th>MSAVI1</th>\n",
       "      <th>MSAVI2</th>\n",
       "      <th>NDVI</th>\n",
       "      <th>GNDVI</th>\n",
       "      <th>ARVI</th>\n",
       "      <th>CI_RE</th>\n",
       "      <th>NDVI_RE</th>\n",
       "      <th>N</th>\n",
       "      <th>P</th>\n",
       "      <th>K</th>\n",
       "      <th>Ca</th>\n",
       "      <th>Mg</th>\n",
       "    </tr>\n",
       "  </thead>\n",
       "  <tbody>\n",
       "    <tr>\n",
       "      <th>0</th>\n",
       "      <td>0.561590</td>\n",
       "      <td>0.518594</td>\n",
       "      <td>0.586838</td>\n",
       "      <td>0.861354</td>\n",
       "      <td>0.764891</td>\n",
       "      <td>0.853762</td>\n",
       "      <td>0.266575</td>\n",
       "      <td>0.34355</td>\n",
       "      <td>2.67</td>\n",
       "      <td>0.147</td>\n",
       "      <td>1.38</td>\n",
       "      <td>0.47</td>\n",
       "      <td>0.24</td>\n",
       "    </tr>\n",
       "    <tr>\n",
       "      <th>1</th>\n",
       "      <td>0.560762</td>\n",
       "      <td>0.516527</td>\n",
       "      <td>0.586649</td>\n",
       "      <td>0.873661</td>\n",
       "      <td>0.774482</td>\n",
       "      <td>0.870025</td>\n",
       "      <td>0.266625</td>\n",
       "      <td>0.34520</td>\n",
       "      <td>2.47</td>\n",
       "      <td>0.149</td>\n",
       "      <td>1.19</td>\n",
       "      <td>0.49</td>\n",
       "      <td>0.27</td>\n",
       "    </tr>\n",
       "    <tr>\n",
       "      <th>2</th>\n",
       "      <td>0.554815</td>\n",
       "      <td>0.508985</td>\n",
       "      <td>0.578110</td>\n",
       "      <td>0.877120</td>\n",
       "      <td>0.788915</td>\n",
       "      <td>0.876135</td>\n",
       "      <td>0.270700</td>\n",
       "      <td>0.34785</td>\n",
       "      <td>2.44</td>\n",
       "      <td>0.138</td>\n",
       "      <td>1.07</td>\n",
       "      <td>0.52</td>\n",
       "      <td>0.23</td>\n",
       "    </tr>\n",
       "  </tbody>\n",
       "</table>\n",
       "</div>"
      ],
      "text/plain": [
       "       SAVI    MSAVI1    MSAVI2      NDVI     GNDVI      ARVI     CI_RE  \\\n",
       "0  0.561590  0.518594  0.586838  0.861354  0.764891  0.853762  0.266575   \n",
       "1  0.560762  0.516527  0.586649  0.873661  0.774482  0.870025  0.266625   \n",
       "2  0.554815  0.508985  0.578110  0.877120  0.788915  0.876135  0.270700   \n",
       "\n",
       "   NDVI_RE     N      P     K    Ca    Mg  \n",
       "0  0.34355  2.67  0.147  1.38  0.47  0.24  \n",
       "1  0.34520  2.47  0.149  1.19  0.49  0.27  \n",
       "2  0.34785  2.44  0.138  1.07  0.52  0.23  "
      ]
     },
     "execution_count": 21,
     "metadata": {},
     "output_type": "execute_result"
    }
   ],
   "source": [
    "df.iloc[0:3] #data slicing based on row which three consecutive row \n"
   ]
  },
  {
   "cell_type": "code",
   "execution_count": 26,
   "id": "d17e235f",
   "metadata": {},
   "outputs": [
    {
     "data": {
      "text/html": [
       "<div>\n",
       "<style scoped>\n",
       "    .dataframe tbody tr th:only-of-type {\n",
       "        vertical-align: middle;\n",
       "    }\n",
       "\n",
       "    .dataframe tbody tr th {\n",
       "        vertical-align: top;\n",
       "    }\n",
       "\n",
       "    .dataframe thead th {\n",
       "        text-align: right;\n",
       "    }\n",
       "</style>\n",
       "<table border=\"1\" class=\"dataframe\">\n",
       "  <thead>\n",
       "    <tr style=\"text-align: right;\">\n",
       "      <th></th>\n",
       "      <th>SAVI</th>\n",
       "      <th>MSAVI1</th>\n",
       "      <th>MSAVI2</th>\n",
       "      <th>NDVI</th>\n",
       "      <th>GNDVI</th>\n",
       "      <th>ARVI</th>\n",
       "      <th>CI_RE</th>\n",
       "      <th>NDVI_RE</th>\n",
       "      <th>N</th>\n",
       "    </tr>\n",
       "  </thead>\n",
       "  <tbody>\n",
       "    <tr>\n",
       "      <th>0</th>\n",
       "      <td>0.561590</td>\n",
       "      <td>0.518594</td>\n",
       "      <td>0.586838</td>\n",
       "      <td>0.861354</td>\n",
       "      <td>0.764891</td>\n",
       "      <td>0.853762</td>\n",
       "      <td>0.266575</td>\n",
       "      <td>0.34355</td>\n",
       "      <td>2.67</td>\n",
       "    </tr>\n",
       "    <tr>\n",
       "      <th>1</th>\n",
       "      <td>0.560762</td>\n",
       "      <td>0.516527</td>\n",
       "      <td>0.586649</td>\n",
       "      <td>0.873661</td>\n",
       "      <td>0.774482</td>\n",
       "      <td>0.870025</td>\n",
       "      <td>0.266625</td>\n",
       "      <td>0.34520</td>\n",
       "      <td>2.47</td>\n",
       "    </tr>\n",
       "    <tr>\n",
       "      <th>2</th>\n",
       "      <td>0.554815</td>\n",
       "      <td>0.508985</td>\n",
       "      <td>0.578110</td>\n",
       "      <td>0.877120</td>\n",
       "      <td>0.788915</td>\n",
       "      <td>0.876135</td>\n",
       "      <td>0.270700</td>\n",
       "      <td>0.34785</td>\n",
       "      <td>2.44</td>\n",
       "    </tr>\n",
       "    <tr>\n",
       "      <th>3</th>\n",
       "      <td>0.554929</td>\n",
       "      <td>0.509721</td>\n",
       "      <td>0.578393</td>\n",
       "      <td>0.872033</td>\n",
       "      <td>0.780502</td>\n",
       "      <td>0.871657</td>\n",
       "      <td>0.270500</td>\n",
       "      <td>0.35790</td>\n",
       "      <td>2.38</td>\n",
       "    </tr>\n",
       "    <tr>\n",
       "      <th>4</th>\n",
       "      <td>0.569649</td>\n",
       "      <td>0.527532</td>\n",
       "      <td>0.599213</td>\n",
       "      <td>0.871600</td>\n",
       "      <td>0.787134</td>\n",
       "      <td>0.863433</td>\n",
       "      <td>0.274625</td>\n",
       "      <td>0.35550</td>\n",
       "      <td>2.42</td>\n",
       "    </tr>\n",
       "    <tr>\n",
       "      <th>5</th>\n",
       "      <td>0.569637</td>\n",
       "      <td>0.526610</td>\n",
       "      <td>0.599903</td>\n",
       "      <td>0.881027</td>\n",
       "      <td>0.798713</td>\n",
       "      <td>0.880360</td>\n",
       "      <td>0.278000</td>\n",
       "      <td>0.36945</td>\n",
       "      <td>2.40</td>\n",
       "    </tr>\n",
       "    <tr>\n",
       "      <th>6</th>\n",
       "      <td>0.562962</td>\n",
       "      <td>0.519157</td>\n",
       "      <td>0.589653</td>\n",
       "      <td>0.873722</td>\n",
       "      <td>0.788842</td>\n",
       "      <td>0.867950</td>\n",
       "      <td>0.279475</td>\n",
       "      <td>0.36930</td>\n",
       "      <td>2.39</td>\n",
       "    </tr>\n",
       "    <tr>\n",
       "      <th>7</th>\n",
       "      <td>0.564934</td>\n",
       "      <td>0.521237</td>\n",
       "      <td>0.593103</td>\n",
       "      <td>0.878133</td>\n",
       "      <td>0.785650</td>\n",
       "      <td>0.872852</td>\n",
       "      <td>0.282625</td>\n",
       "      <td>0.37185</td>\n",
       "      <td>2.39</td>\n",
       "    </tr>\n",
       "    <tr>\n",
       "      <th>8</th>\n",
       "      <td>0.562185</td>\n",
       "      <td>0.517843</td>\n",
       "      <td>0.588982</td>\n",
       "      <td>0.878127</td>\n",
       "      <td>0.797302</td>\n",
       "      <td>0.872848</td>\n",
       "      <td>0.270700</td>\n",
       "      <td>0.33490</td>\n",
       "      <td>2.36</td>\n",
       "    </tr>\n",
       "    <tr>\n",
       "      <th>9</th>\n",
       "      <td>0.541857</td>\n",
       "      <td>0.494673</td>\n",
       "      <td>0.559253</td>\n",
       "      <td>0.864023</td>\n",
       "      <td>0.766050</td>\n",
       "      <td>0.854187</td>\n",
       "      <td>0.266100</td>\n",
       "      <td>0.33815</td>\n",
       "      <td>2.42</td>\n",
       "    </tr>\n",
       "    <tr>\n",
       "      <th>10</th>\n",
       "      <td>0.544169</td>\n",
       "      <td>0.498639</td>\n",
       "      <td>0.561774</td>\n",
       "      <td>0.849715</td>\n",
       "      <td>0.762639</td>\n",
       "      <td>0.839568</td>\n",
       "      <td>0.269800</td>\n",
       "      <td>0.34425</td>\n",
       "      <td>2.39</td>\n",
       "    </tr>\n",
       "    <tr>\n",
       "      <th>11</th>\n",
       "      <td>0.545639</td>\n",
       "      <td>0.499527</td>\n",
       "      <td>0.564079</td>\n",
       "      <td>0.858876</td>\n",
       "      <td>0.768117</td>\n",
       "      <td>0.846725</td>\n",
       "      <td>0.270650</td>\n",
       "      <td>0.35070</td>\n",
       "      <td>2.35</td>\n",
       "    </tr>\n",
       "    <tr>\n",
       "      <th>12</th>\n",
       "      <td>0.571202</td>\n",
       "      <td>0.531015</td>\n",
       "      <td>0.599530</td>\n",
       "      <td>0.853677</td>\n",
       "      <td>0.759640</td>\n",
       "      <td>0.850387</td>\n",
       "      <td>0.275850</td>\n",
       "      <td>0.35920</td>\n",
       "      <td>2.45</td>\n",
       "    </tr>\n",
       "    <tr>\n",
       "      <th>13</th>\n",
       "      <td>0.523737</td>\n",
       "      <td>0.475737</td>\n",
       "      <td>0.532523</td>\n",
       "      <td>0.831383</td>\n",
       "      <td>0.742177</td>\n",
       "      <td>0.814030</td>\n",
       "      <td>0.281150</td>\n",
       "      <td>0.36815</td>\n",
       "      <td>2.31</td>\n",
       "    </tr>\n",
       "  </tbody>\n",
       "</table>\n",
       "</div>"
      ],
      "text/plain": [
       "        SAVI    MSAVI1    MSAVI2      NDVI     GNDVI      ARVI     CI_RE  \\\n",
       "0   0.561590  0.518594  0.586838  0.861354  0.764891  0.853762  0.266575   \n",
       "1   0.560762  0.516527  0.586649  0.873661  0.774482  0.870025  0.266625   \n",
       "2   0.554815  0.508985  0.578110  0.877120  0.788915  0.876135  0.270700   \n",
       "3   0.554929  0.509721  0.578393  0.872033  0.780502  0.871657  0.270500   \n",
       "4   0.569649  0.527532  0.599213  0.871600  0.787134  0.863433  0.274625   \n",
       "5   0.569637  0.526610  0.599903  0.881027  0.798713  0.880360  0.278000   \n",
       "6   0.562962  0.519157  0.589653  0.873722  0.788842  0.867950  0.279475   \n",
       "7   0.564934  0.521237  0.593103  0.878133  0.785650  0.872852  0.282625   \n",
       "8   0.562185  0.517843  0.588982  0.878127  0.797302  0.872848  0.270700   \n",
       "9   0.541857  0.494673  0.559253  0.864023  0.766050  0.854187  0.266100   \n",
       "10  0.544169  0.498639  0.561774  0.849715  0.762639  0.839568  0.269800   \n",
       "11  0.545639  0.499527  0.564079  0.858876  0.768117  0.846725  0.270650   \n",
       "12  0.571202  0.531015  0.599530  0.853677  0.759640  0.850387  0.275850   \n",
       "13  0.523737  0.475737  0.532523  0.831383  0.742177  0.814030  0.281150   \n",
       "\n",
       "    NDVI_RE     N  \n",
       "0   0.34355  2.67  \n",
       "1   0.34520  2.47  \n",
       "2   0.34785  2.44  \n",
       "3   0.35790  2.38  \n",
       "4   0.35550  2.42  \n",
       "5   0.36945  2.40  \n",
       "6   0.36930  2.39  \n",
       "7   0.37185  2.39  \n",
       "8   0.33490  2.36  \n",
       "9   0.33815  2.42  \n",
       "10  0.34425  2.39  \n",
       "11  0.35070  2.35  \n",
       "12  0.35920  2.45  \n",
       "13  0.36815  2.31  "
      ]
     },
     "execution_count": 26,
     "metadata": {},
     "output_type": "execute_result"
    }
   ],
   "source": [
    "df.loc[:, :'N'] #data slicing from 1st column to N column"
   ]
  },
  {
   "cell_type": "markdown",
   "id": "4848bc30",
   "metadata": {},
   "source": [
    "# VIF (Variance Inflation Factor) extraction (for n status)"
   ]
  },
  {
   "cell_type": "markdown",
   "id": "157614bf",
   "metadata": {},
   "source": [
    "to reduce multicollinearity"
   ]
  },
  {
   "cell_type": "code",
   "execution_count": 64,
   "id": "7c02a4d0",
   "metadata": {},
   "outputs": [],
   "source": [
    "from statsmodels.stats.outliers_influence import variance_inflation_factor\n",
    "  "
   ]
  },
  {
   "cell_type": "code",
   "execution_count": 24,
   "id": "4818a745",
   "metadata": {},
   "outputs": [],
   "source": [
    "df_n = df.drop(labels = ['K', 'P', 'Mg','Ca'], axis = 1)"
   ]
  },
  {
   "cell_type": "code",
   "execution_count": 79,
   "id": "02051781",
   "metadata": {},
   "outputs": [],
   "source": [
    "vif_data = pd.DataFrame()"
   ]
  },
  {
   "cell_type": "code",
   "execution_count": 80,
   "id": "4d085739",
   "metadata": {},
   "outputs": [],
   "source": [
    "vif_data['features'] = df_n.columns"
   ]
  },
  {
   "cell_type": "code",
   "execution_count": 81,
   "id": "797691fd",
   "metadata": {},
   "outputs": [
    {
     "data": {
      "text/html": [
       "<div>\n",
       "<style scoped>\n",
       "    .dataframe tbody tr th:only-of-type {\n",
       "        vertical-align: middle;\n",
       "    }\n",
       "\n",
       "    .dataframe tbody tr th {\n",
       "        vertical-align: top;\n",
       "    }\n",
       "\n",
       "    .dataframe thead th {\n",
       "        text-align: right;\n",
       "    }\n",
       "</style>\n",
       "<table border=\"1\" class=\"dataframe\">\n",
       "  <thead>\n",
       "    <tr style=\"text-align: right;\">\n",
       "      <th></th>\n",
       "      <th>features</th>\n",
       "    </tr>\n",
       "  </thead>\n",
       "  <tbody>\n",
       "    <tr>\n",
       "      <th>0</th>\n",
       "      <td>SAVI</td>\n",
       "    </tr>\n",
       "    <tr>\n",
       "      <th>1</th>\n",
       "      <td>MSAVI1</td>\n",
       "    </tr>\n",
       "    <tr>\n",
       "      <th>2</th>\n",
       "      <td>MSAVI2</td>\n",
       "    </tr>\n",
       "    <tr>\n",
       "      <th>3</th>\n",
       "      <td>NDVI</td>\n",
       "    </tr>\n",
       "    <tr>\n",
       "      <th>4</th>\n",
       "      <td>GNDVI</td>\n",
       "    </tr>\n",
       "    <tr>\n",
       "      <th>5</th>\n",
       "      <td>ARVI</td>\n",
       "    </tr>\n",
       "    <tr>\n",
       "      <th>6</th>\n",
       "      <td>CI_RE</td>\n",
       "    </tr>\n",
       "    <tr>\n",
       "      <th>7</th>\n",
       "      <td>NDVI_RE</td>\n",
       "    </tr>\n",
       "  </tbody>\n",
       "</table>\n",
       "</div>"
      ],
      "text/plain": [
       "  features\n",
       "0     SAVI\n",
       "1   MSAVI1\n",
       "2   MSAVI2\n",
       "3     NDVI\n",
       "4    GNDVI\n",
       "5     ARVI\n",
       "6    CI_RE\n",
       "7  NDVI_RE"
      ]
     },
     "execution_count": 81,
     "metadata": {},
     "output_type": "execute_result"
    }
   ],
   "source": [
    "vif_data"
   ]
  },
  {
   "cell_type": "code",
   "execution_count": 82,
   "id": "4283ac3d",
   "metadata": {
    "scrolled": true
   },
   "outputs": [
    {
     "name": "stdout",
     "output_type": "stream",
     "text": [
      "  features           VIF\n",
      "0     SAVI  4.988849e+07\n",
      "1   MSAVI1  7.005764e+07\n",
      "2   MSAVI2  8.686205e+06\n",
      "3     NDVI  3.076069e+06\n",
      "4    GNDVI  3.985793e+04\n",
      "5     ARVI  1.545195e+05\n",
      "6    CI_RE  2.510088e+04\n",
      "7  NDVI_RE  7.658340e+03\n"
     ]
    }
   ],
   "source": [
    "vif_data['VIF'] = [variance_inflation_factor(df_n.values,i)\n",
    "                  for i in range(df_n.shape[1])]\n",
    "\n",
    "print(vif_data)"
   ]
  },
  {
   "cell_type": "markdown",
   "id": "d8261340",
   "metadata": {},
   "source": [
    "If we consider multiple regression or machine learning , SAVI, MSAVI 1, MSAVI2,NDVI_RE are not included due to the VIF >5 which is high in multicollinearity"
   ]
  },
  {
   "cell_type": "markdown",
   "id": "75bfff33",
   "metadata": {},
   "source": [
    "# Regression (Single variable) using msavi for n prediction on palms in mineral soil"
   ]
  },
  {
   "cell_type": "code",
   "execution_count": 28,
   "id": "8b23ebe5",
   "metadata": {},
   "outputs": [],
   "source": [
    "#Splitting the dataset\n",
    "from sklearn.model_selection import train_test_split"
   ]
  },
  {
   "cell_type": "code",
   "execution_count": 29,
   "id": "90c24d1d",
   "metadata": {},
   "outputs": [],
   "source": [
    "X= df_n['MSAVI1']\n",
    "y= df_n['N']"
   ]
  },
  {
   "cell_type": "code",
   "execution_count": 30,
   "id": "61399f29",
   "metadata": {},
   "outputs": [],
   "source": [
    "X_train, X_test, y_train, y_test = train_test_split(X, y, random_state=0, test_size = 0.4)"
   ]
  },
  {
   "cell_type": "code",
   "execution_count": 27,
   "id": "5a232ed6",
   "metadata": {},
   "outputs": [
    {
     "name": "stdout",
     "output_type": "stream",
     "text": [
      "Shape_Xtrain (8,)\n",
      "Shape_Xtest (6,)\n"
     ]
    }
   ],
   "source": [
    "print('Shape_Xtrain', X_train.shape)\n",
    "print('Shape_Xtest', X_test.shape)"
   ]
  },
  {
   "cell_type": "code",
   "execution_count": 50,
   "id": "acd9429d",
   "metadata": {},
   "outputs": [
    {
     "name": "stdout",
     "output_type": "stream",
     "text": [
      "        2\n",
      "-175.4 x + 181.2 x - 44.35\n"
     ]
    }
   ],
   "source": [
    "#Quadratic Regression / \n",
    "model = np.poly1d(np.polyfit(X_train,y_train,2))\n",
    "\n",
    "print(model)"
   ]
  },
  {
   "cell_type": "code",
   "execution_count": 53,
   "id": "8b1761ca",
   "metadata": {},
   "outputs": [
    {
     "name": "stdout",
     "output_type": "stream",
     "text": [
      "[2.47200809 2.47115972 2.45151488 2.42077877 2.46192636 2.17853483]\n"
     ]
    }
   ],
   "source": [
    "quad = model(X_test)\n",
    "print(quad)"
   ]
  },
  {
   "cell_type": "code",
   "execution_count": 39,
   "id": "6a7fdc8a",
   "metadata": {},
   "outputs": [],
   "source": [
    "from sklearn.metrics import r2_score\n"
   ]
  },
  {
   "cell_type": "code",
   "execution_count": 61,
   "id": "200a2fde",
   "metadata": {},
   "outputs": [
    {
     "name": "stdout",
     "output_type": "stream",
     "text": [
      "8     2.36\n",
      "6     2.39\n",
      "4     2.42\n",
      "11    2.35\n",
      "2     2.44\n",
      "13    2.31\n",
      "Name: N, dtype: float64\n",
      "[2.47200809 2.47115972 2.45151488 2.42077877 2.46192636 2.17853483]\n"
     ]
    }
   ],
   "source": [
    "print(y_test)\n",
    "print(quad)"
   ]
  },
  {
   "cell_type": "code",
   "execution_count": 66,
   "id": "f39ef7c1",
   "metadata": {},
   "outputs": [
    {
     "data": {
      "text/plain": [
       "0.3469903665530649"
      ]
     },
     "execution_count": 66,
     "metadata": {},
     "output_type": "execute_result"
    }
   ],
   "source": [
    "r2_score(quad, y_test)"
   ]
  },
  {
   "cell_type": "code",
   "execution_count": 58,
   "id": "441e853d",
   "metadata": {},
   "outputs": [],
   "source": [
    "#Linear regression\n",
    "from sklearn.linear_model import LinearRegression\n",
    "model2 = LinearRegression()"
   ]
  },
  {
   "cell_type": "code",
   "execution_count": 77,
   "id": "fbf6a196",
   "metadata": {},
   "outputs": [],
   "source": [
    "X_linear = X_train.values.reshape(-1,1)\n",
    "y_linear = y_train.values.reshape(-1,1)"
   ]
  },
  {
   "cell_type": "code",
   "execution_count": 79,
   "id": "fd189980",
   "metadata": {},
   "outputs": [],
   "source": [
    "linear= model2.fit(X_linear, y_linear)"
   ]
  },
  {
   "cell_type": "code",
   "execution_count": 89,
   "id": "0dbf3555",
   "metadata": {},
   "outputs": [
    {
     "name": "stdout",
     "output_type": "stream",
     "text": [
      "[[1.5751888]]\n",
      "[1.63561545]\n"
     ]
    }
   ],
   "source": [
    "print(linear.coef_)\n",
    "print(linear.intercept_)"
   ]
  },
  {
   "cell_type": "markdown",
   "id": "3adf8ebc",
   "metadata": {},
   "source": [
    "Y = 1.575188(MSAVI1)+1.6356145"
   ]
  },
  {
   "cell_type": "code",
   "execution_count": 82,
   "id": "a9641edc",
   "metadata": {},
   "outputs": [],
   "source": [
    "X_test_linear =X_test.values.reshape(-1,1)"
   ]
  },
  {
   "cell_type": "code",
   "execution_count": 90,
   "id": "b5e1e8b8",
   "metadata": {},
   "outputs": [],
   "source": [
    "n_linear = linear.predict(X_test_linear)"
   ]
  },
  {
   "cell_type": "code",
   "execution_count": 93,
   "id": "14ea9b0b",
   "metadata": {},
   "outputs": [
    {
     "data": {
      "text/plain": [
       "array([[2.45131647],\n",
       "       [2.45338522],\n",
       "       [2.46657874],\n",
       "       [2.42246522],\n",
       "       [2.43736292],\n",
       "       [2.38499052]])"
      ]
     },
     "execution_count": 93,
     "metadata": {},
     "output_type": "execute_result"
    }
   ],
   "source": [
    "n_linear"
   ]
  },
  {
   "cell_type": "code",
   "execution_count": 92,
   "id": "08667108",
   "metadata": {},
   "outputs": [
    {
     "data": {
      "text/plain": [
       "-1.2125720345597677"
      ]
     },
     "execution_count": 92,
     "metadata": {},
     "output_type": "execute_result"
    }
   ],
   "source": [
    "r2_score(y_test, n_linear)"
   ]
  },
  {
   "cell_type": "code",
   "execution_count": 21,
   "id": "1fc96f7a",
   "metadata": {},
   "outputs": [],
   "source": [
    "#OLS regression\n",
    "import statsmodels.api as sm"
   ]
  },
  {
   "cell_type": "code",
   "execution_count": 22,
   "id": "ac3c7378",
   "metadata": {},
   "outputs": [],
   "source": [
    "X_ols = sm.add_constant(X_train)"
   ]
  },
  {
   "cell_type": "code",
   "execution_count": 36,
   "id": "f2655bd2",
   "metadata": {},
   "outputs": [],
   "source": [
    "model3 = sm.OLS(y_train, X_train).fit()"
   ]
  },
  {
   "cell_type": "code",
   "execution_count": 37,
   "id": "b4055176",
   "metadata": {},
   "outputs": [
    {
     "name": "stdout",
     "output_type": "stream",
     "text": [
      "                                 OLS Regression Results                                \n",
      "=======================================================================================\n",
      "Dep. Variable:                      N   R-squared (uncentered):                   0.998\n",
      "Model:                            OLS   Adj. R-squared (uncentered):              0.998\n",
      "Method:                 Least Squares   F-statistic:                              4592.\n",
      "Date:                Tue, 13 Sep 2022   Prob (F-statistic):                    4.01e-11\n",
      "Time:                        09:59:12   Log-Likelihood:                          7.4372\n",
      "No. Observations:                   8   AIC:                                     -12.87\n",
      "Df Residuals:                       7   BIC:                                     -12.79\n",
      "Df Model:                           1                                                  \n",
      "Covariance Type:            nonrobust                                                  \n",
      "==============================================================================\n",
      "                 coef    std err          t      P>|t|      [0.025      0.975]\n",
      "------------------------------------------------------------------------------\n",
      "MSAVI1         4.7517      0.070     67.763      0.000       4.586       4.918\n",
      "==============================================================================\n",
      "Omnibus:                        3.566   Durbin-Watson:                   2.549\n",
      "Prob(Omnibus):                  0.168   Jarque-Bera (JB):                1.224\n",
      "Skew:                           0.958   Prob(JB):                        0.542\n",
      "Kurtosis:                       2.992   Cond. No.                         1.00\n",
      "==============================================================================\n",
      "\n",
      "Notes:\n",
      "[1] R² is computed without centering (uncentered) since the model does not contain a constant.\n",
      "[2] Standard Errors assume that the covariance matrix of the errors is correctly specified.\n"
     ]
    }
   ],
   "source": [
    "print(model3.summary())"
   ]
  },
  {
   "cell_type": "markdown",
   "id": "061ea2d3",
   "metadata": {},
   "source": [
    "y = 4.7517(MSAVI1) "
   ]
  },
  {
   "cell_type": "code",
   "execution_count": 40,
   "id": "69026470",
   "metadata": {},
   "outputs": [],
   "source": [
    "n_ols= model3.predict(X_test)"
   ]
  },
  {
   "cell_type": "code",
   "execution_count": 41,
   "id": "0e5b8b85",
   "metadata": {},
   "outputs": [
    {
     "name": "stdout",
     "output_type": "stream",
     "text": [
      "8     2.460644\n",
      "6     2.466884\n",
      "4     2.506684\n",
      "11    2.373611\n",
      "2     2.418552\n",
      "13    2.260565\n",
      "dtype: float64\n"
     ]
    }
   ],
   "source": [
    "print(n_ols)"
   ]
  },
  {
   "cell_type": "markdown",
   "id": "57c10c79",
   "metadata": {},
   "source": [
    "# Regression Single Variable using CI_RE for n prediction on palms in mineral soil"
   ]
  },
  {
   "cell_type": "code",
   "execution_count": 45,
   "id": "75b4815d",
   "metadata": {},
   "outputs": [],
   "source": [
    "X2 = df_n['CI_RE']\n",
    "y2= df_n ['N']\n"
   ]
  },
  {
   "cell_type": "code",
   "execution_count": 47,
   "id": "1ed7abf1",
   "metadata": {},
   "outputs": [],
   "source": [
    "#Splitting\n",
    "X2_train, X2_test, y2_train, y2_test = train_test_split(X2, y2, random_state=0, test_size = 0.4)"
   ]
  },
  {
   "cell_type": "code",
   "execution_count": 48,
   "id": "f76eb016",
   "metadata": {},
   "outputs": [
    {
     "name": "stdout",
     "output_type": "stream",
     "text": [
      "       2\n",
      "858.5 x - 477 x + 68.64\n"
     ]
    }
   ],
   "source": [
    "#Quadratic Regression\n",
    "model_re = np.poly1d(np.polyfit(X2_train,y2_train,2))\n",
    "\n",
    "print(model_re)"
   ]
  },
  {
   "cell_type": "code",
   "execution_count": 49,
   "id": "908f49bc",
   "metadata": {},
   "outputs": [
    {
     "name": "stdout",
     "output_type": "stream",
     "text": [
      "[2.43241122 2.39157355 2.39780123 2.43302275 2.43241122 2.39880616]\n"
     ]
    }
   ],
   "source": [
    "quad_re = model_re(X2_test)\n",
    "print(quad_re)"
   ]
  },
  {
   "cell_type": "code",
   "execution_count": 50,
   "id": "95ec07e9",
   "metadata": {},
   "outputs": [],
   "source": [
    "#OLS regression"
   ]
  },
  {
   "cell_type": "code",
   "execution_count": 52,
   "id": "1b2e2f01",
   "metadata": {},
   "outputs": [],
   "source": [
    "modelols_re = sm.OLS(y2_train, X2_train).fit()"
   ]
  },
  {
   "cell_type": "code",
   "execution_count": 54,
   "id": "cd41c65d",
   "metadata": {},
   "outputs": [
    {
     "name": "stdout",
     "output_type": "stream",
     "text": [
      "                                 OLS Regression Results                                \n",
      "=======================================================================================\n",
      "Dep. Variable:                      N   R-squared (uncentered):                   0.998\n",
      "Model:                            OLS   Adj. R-squared (uncentered):              0.997\n",
      "Method:                 Least Squares   F-statistic:                              2829.\n",
      "Date:                Tue, 13 Sep 2022   Prob (F-statistic):                    2.18e-10\n",
      "Time:                        10:37:42   Log-Likelihood:                          5.5039\n",
      "No. Observations:                   8   AIC:                                     -9.008\n",
      "Df Residuals:                       7   BIC:                                     -8.928\n",
      "Df Model:                           1                                                  \n",
      "Covariance Type:            nonrobust                                                  \n",
      "==============================================================================\n",
      "                 coef    std err          t      P>|t|      [0.025      0.975]\n",
      "------------------------------------------------------------------------------\n",
      "CI_RE          8.9862      0.169     53.190      0.000       8.587       9.386\n",
      "==============================================================================\n",
      "Omnibus:                        5.784   Durbin-Watson:                   2.664\n",
      "Prob(Omnibus):                  0.055   Jarque-Bera (JB):                1.733\n",
      "Skew:                           1.108   Prob(JB):                        0.420\n",
      "Kurtosis:                       3.538   Cond. No.                         1.00\n",
      "==============================================================================\n",
      "\n",
      "Notes:\n",
      "[1] R² is computed without centering (uncentered) since the model does not contain a constant.\n",
      "[2] Standard Errors assume that the covariance matrix of the errors is correctly specified.\n"
     ]
    },
    {
     "name": "stderr",
     "output_type": "stream",
     "text": [
      "C:\\Users\\Lenovo\\miniconda3\\lib\\site-packages\\scipy\\stats\\stats.py:1541: UserWarning: kurtosistest only valid for n>=20 ... continuing anyway, n=8\n",
      "  warnings.warn(\"kurtosistest only valid for n>=20 ... continuing \"\n"
     ]
    }
   ],
   "source": [
    "print(modelols_re.summary())"
   ]
  },
  {
   "cell_type": "code",
   "execution_count": 55,
   "id": "fdc37c3a",
   "metadata": {},
   "outputs": [],
   "source": [
    "n_ols_re= modelols_re.predict(X2_test)"
   ]
  },
  {
   "cell_type": "code",
   "execution_count": 56,
   "id": "98fd15dc",
   "metadata": {},
   "outputs": [
    {
     "data": {
      "text/plain": [
       "8     2.432556\n",
       "6     2.511409\n",
       "4     2.467826\n",
       "11    2.432106\n",
       "2     2.432556\n",
       "13    2.526461\n",
       "dtype: float64"
      ]
     },
     "execution_count": 56,
     "metadata": {},
     "output_type": "execute_result"
    }
   ],
   "source": [
    "n_ols_re"
   ]
  },
  {
   "cell_type": "code",
   "execution_count": 57,
   "id": "463e6f55",
   "metadata": {},
   "outputs": [],
   "source": [
    "#linear regression\n",
    "X2_linear = X2_train.values.reshape(-1,1)\n",
    "y2_linear = y2_train.values.reshape(-1,1)"
   ]
  },
  {
   "cell_type": "code",
   "execution_count": 59,
   "id": "82ad6222",
   "metadata": {},
   "outputs": [],
   "source": [
    "linear_re= model2.fit(X2_linear, y2_linear)"
   ]
  },
  {
   "cell_type": "code",
   "execution_count": 60,
   "id": "97981508",
   "metadata": {},
   "outputs": [
    {
     "name": "stdout",
     "output_type": "stream",
     "text": [
      "[[-6.91165601]]\n",
      "[4.32628523]\n"
     ]
    }
   ],
   "source": [
    "print(linear_re.coef_)\n",
    "print(linear_re.intercept_)"
   ]
  },
  {
   "cell_type": "code",
   "execution_count": 61,
   "id": "361bd2d1",
   "metadata": {},
   "outputs": [],
   "source": [
    "X2_test_linear =X2_test.values.reshape(-1,1)"
   ]
  },
  {
   "cell_type": "code",
   "execution_count": 62,
   "id": "dd79a7c7",
   "metadata": {},
   "outputs": [],
   "source": [
    "n_re_linear = linear_re.predict(X2_test_linear)"
   ]
  },
  {
   "cell_type": "code",
   "execution_count": 63,
   "id": "d6c362f2",
   "metadata": {},
   "outputs": [
    {
     "data": {
      "text/plain": [
       "array([[2.45529995],\n",
       "       [2.39465017],\n",
       "       [2.4281717 ],\n",
       "       [2.45564553],\n",
       "       [2.45529995],\n",
       "       [2.38307314]])"
      ]
     },
     "execution_count": 63,
     "metadata": {},
     "output_type": "execute_result"
    }
   ],
   "source": [
    "n_re_linear"
   ]
  },
  {
   "cell_type": "markdown",
   "id": "b914733e",
   "metadata": {},
   "source": [
    "# P value extraction using OLS regression\n"
   ]
  },
  {
   "cell_type": "markdown",
   "id": "519d9c56",
   "metadata": {},
   "source": [
    "To know which set of bands are representative for N status prediction  "
   ]
  },
  {
   "cell_type": "code",
   "execution_count": 24,
   "id": "cdf4d669",
   "metadata": {},
   "outputs": [],
   "source": [
    "x_columns =[  'B2','B3' ,'B4','B5', 'B11'] #chosen based on resolution, 60 m resolution is too low \n",
    "y = df_n['N'] #target"
   ]
  },
  {
   "cell_type": "code",
   "execution_count": 25,
   "id": "079a48e2",
   "metadata": {},
   "outputs": [],
   "source": [
    "##creating function to get model statistics\n",
    "import statsmodels.api as sm"
   ]
  },
  {
   "cell_type": "code",
   "execution_count": 26,
   "id": "4cb4bb12",
   "metadata": {},
   "outputs": [],
   "source": [
    "#create a function to generate OLS regression results \n",
    "def get_stats():\n",
    "    X= sm.add_constant(df_n[x_columns]) #add constanta \n",
    "    results= sm.OLS(y,X).fit()\n",
    "    print(results.summary())\n"
   ]
  },
  {
   "cell_type": "code",
   "execution_count": 27,
   "id": "d9456fe5",
   "metadata": {},
   "outputs": [
    {
     "name": "stdout",
     "output_type": "stream",
     "text": [
      "                            OLS Regression Results                            \n",
      "==============================================================================\n",
      "Dep. Variable:                      N   R-squared:                       0.952\n",
      "Model:                            OLS   Adj. R-squared:                  0.891\n",
      "Method:                 Least Squares   F-statistic:                     15.73\n",
      "Date:                Fri, 09 Sep 2022   Prob (F-statistic):            0.00975\n",
      "Time:                        14:13:57   Log-Likelihood:                 25.703\n",
      "No. Observations:                  10   AIC:                            -39.41\n",
      "Df Residuals:                       4   BIC:                            -37.59\n",
      "Df Model:                           5                                         \n",
      "Covariance Type:            nonrobust                                         \n",
      "==============================================================================\n",
      "                 coef    std err          t      P>|t|      [0.025      0.975]\n",
      "------------------------------------------------------------------------------\n",
      "const         -0.0917      0.359     -0.255      0.811      -1.090       0.906\n",
      "B2            48.8989     25.829      1.893      0.131     -22.813     120.610\n",
      "B3             5.2830      9.370      0.564      0.603     -20.732      31.298\n",
      "B4             7.7977     24.172      0.323      0.763     -59.316      74.911\n",
      "B5           -17.9013     14.190     -1.262      0.276     -57.300      21.497\n",
      "B11           32.1773      8.981      3.583      0.023       7.242      57.112\n",
      "==============================================================================\n",
      "Omnibus:                        1.276   Durbin-Watson:                   2.154\n",
      "Prob(Omnibus):                  0.528   Jarque-Bera (JB):                0.697\n",
      "Skew:                           0.085   Prob(JB):                        0.706\n",
      "Kurtosis:                       1.718   Cond. No.                     3.14e+03\n",
      "==============================================================================\n",
      "\n",
      "Notes:\n",
      "[1] Standard Errors assume that the covariance matrix of the errors is correctly specified.\n",
      "[2] The condition number is large, 3.14e+03. This might indicate that there are\n",
      "strong multicollinearity or other numerical problems.\n"
     ]
    },
    {
     "name": "stderr",
     "output_type": "stream",
     "text": [
      "C:\\Users\\Lenovo\\miniconda3\\lib\\site-packages\\scipy\\stats\\stats.py:1541: UserWarning: kurtosistest only valid for n>=20 ... continuing anyway, n=10\n",
      "  warnings.warn(\"kurtosistest only valid for n>=20 ... continuing \"\n"
     ]
    }
   ],
   "source": [
    "get_stats()\n",
    "\n",
    "#erorr might apper when number of observations less than number of features"
   ]
  },
  {
   "cell_type": "markdown",
   "id": "7ec55095",
   "metadata": {},
   "source": [
    "B4, B5,B6, B7, B8, B8, B8A were found to have statistically significant with each other at the 0.05 significance level, but it has strong multicollinearity, Since we do not in-depth in each other variable, it can be neglected for prediction "
   ]
  },
  {
   "cell_type": "code",
   "execution_count": 36,
   "id": "c7dccca8",
   "metadata": {},
   "outputs": [],
   "source": [
    "##building the model\n",
    "X= df_n[[ 'B2','B3' ,'B4','B5', 'B11']]\n",
    "y = df_n['N']"
   ]
  },
  {
   "cell_type": "code",
   "execution_count": 37,
   "id": "6fa1969c",
   "metadata": {},
   "outputs": [],
   "source": [
    "#Split the data to training and testing data\n",
    "from sklearn.model_selection import train_test_split"
   ]
  },
  {
   "cell_type": "code",
   "execution_count": 38,
   "id": "96db75a4",
   "metadata": {},
   "outputs": [],
   "source": [
    "X_train, X_test, y_train, y_test = train_test_split(X, y, random_state=0, test_size = 0.4)"
   ]
  },
  {
   "cell_type": "code",
   "execution_count": 39,
   "id": "68cfb6d3",
   "metadata": {},
   "outputs": [
    {
     "name": "stdout",
     "output_type": "stream",
     "text": [
      "Shape_Xtrain (6, 5)\n",
      "Shape_Xtest (4, 5)\n"
     ]
    }
   ],
   "source": [
    "print('Shape_Xtrain', X_train.shape)\n",
    "print('Shape_Xtest', X_test.shape)"
   ]
  },
  {
   "cell_type": "code",
   "execution_count": 40,
   "id": "b3060100",
   "metadata": {},
   "outputs": [],
   "source": [
    "X_cons = sm.add_constant(X_train) #add intercept in the equation "
   ]
  },
  {
   "cell_type": "code",
   "execution_count": 45,
   "id": "f716822b",
   "metadata": {},
   "outputs": [],
   "source": [
    "model = sm.OLS(y_train, X_train).fit()"
   ]
  },
  {
   "cell_type": "code",
   "execution_count": 46,
   "id": "05255d63",
   "metadata": {},
   "outputs": [
    {
     "data": {
      "text/plain": [
       "<statsmodels.regression.linear_model.RegressionResultsWrapper at 0x11767c20e20>"
      ]
     },
     "execution_count": 46,
     "metadata": {},
     "output_type": "execute_result"
    }
   ],
   "source": [
    "model"
   ]
  },
  {
   "cell_type": "code",
   "execution_count": 47,
   "id": "d69c8e09",
   "metadata": {},
   "outputs": [],
   "source": [
    "n_pred = model.predict(X_test)"
   ]
  },
  {
   "cell_type": "code",
   "execution_count": 48,
   "id": "4db6ec68",
   "metadata": {},
   "outputs": [
    {
     "data": {
      "text/plain": [
       "2    2.252477\n",
       "8    2.308722\n",
       "4    2.470401\n",
       "9    2.534155\n",
       "dtype: float64"
      ]
     },
     "execution_count": 48,
     "metadata": {},
     "output_type": "execute_result"
    }
   ],
   "source": [
    "n_pred #prediction\n"
   ]
  },
  {
   "cell_type": "code",
   "execution_count": 49,
   "id": "3396a604",
   "metadata": {},
   "outputs": [
    {
     "data": {
      "text/plain": [
       "2    2.44\n",
       "8    2.36\n",
       "4    2.42\n",
       "9    2.42\n",
       "Name: N, dtype: float64"
      ]
     },
     "execution_count": 49,
     "metadata": {},
     "output_type": "execute_result"
    }
   ],
   "source": [
    "#Actual\n",
    "y_test"
   ]
  },
  {
   "cell_type": "code",
   "execution_count": 50,
   "id": "ecac2ebb",
   "metadata": {},
   "outputs": [],
   "source": [
    "frames = [n_pred, y_test]\n",
    "merge = pd.concat(frames, keys=[\"Actual\", \"Prediction\"])"
   ]
  },
  {
   "cell_type": "code",
   "execution_count": 51,
   "id": "26632b04",
   "metadata": {},
   "outputs": [
    {
     "data": {
      "text/plain": [
       "Actual      2    2.252477\n",
       "            8    2.308722\n",
       "            4    2.470401\n",
       "            9    2.534155\n",
       "Prediction  2    2.440000\n",
       "            8    2.360000\n",
       "            4    2.420000\n",
       "            9    2.420000\n",
       "dtype: float64"
      ]
     },
     "execution_count": 51,
     "metadata": {},
     "output_type": "execute_result"
    }
   ],
   "source": [
    "merge"
   ]
  },
  {
   "cell_type": "code",
   "execution_count": 52,
   "id": "b5a5025c",
   "metadata": {},
   "outputs": [],
   "source": [
    "#MAPE Calculation\n",
    "from sklearn.metrics import mean_absolute_percentage_error"
   ]
  },
  {
   "cell_type": "code",
   "execution_count": 53,
   "id": "cad87a81",
   "metadata": {},
   "outputs": [],
   "source": [
    "mape = mean_absolute_percentage_error(y_test, n_pred)"
   ]
  },
  {
   "cell_type": "code",
   "execution_count": 54,
   "id": "f3ef7c91",
   "metadata": {},
   "outputs": [
    {
     "data": {
      "text/plain": [
       "0.041644988871163045"
      ]
     },
     "execution_count": 54,
     "metadata": {},
     "output_type": "execute_result"
    }
   ],
   "source": [
    "mape"
   ]
  },
  {
   "cell_type": "markdown",
   "id": "f7be5946",
   "metadata": {},
   "source": []
  },
  {
   "cell_type": "code",
   "execution_count": null,
   "id": "cfbdbfe7",
   "metadata": {},
   "outputs": [],
   "source": [
    "    Actual   Prediction         Akurasi = jumlah kategori cocok/total data test = 4/5 = 75%\n",
    "2   Optimum   Optimum           \n",
    "8   Defisensi Defisiens          \n",
    "4   Optimum   Defisiensi          \n",
    "9   Optimum   Optimum   \n",
    "\n",
    "based on von Uexkull and Fairhurst 1991"
   ]
  },
  {
   "cell_type": "code",
   "execution_count": null,
   "id": "39309d4f",
   "metadata": {},
   "outputs": [],
   "source": [
    "print(r2_score(y_test,n_pred))"
   ]
  },
  {
   "cell_type": "code",
   "execution_count": null,
   "id": "2604ed33",
   "metadata": {},
   "outputs": [],
   "source": [
    "print(r_squared)"
   ]
  },
  {
   "cell_type": "markdown",
   "id": "817bd7f9",
   "metadata": {},
   "source": [
    "# Quadratic Regeression\n",
    "single variable"
   ]
  },
  {
   "cell_type": "code",
   "execution_count": null,
   "id": "bbdf007d",
   "metadata": {},
   "outputs": [],
   "source": [
    "#Polynomial degree fit with degree 2\n",
    "model2 = np.poly1d(np.polyfit(X_train['B5'],y_train,2)) #Band 5 is chosen based on the lowest P value & Highest correlation  with N status"
   ]
  },
  {
   "cell_type": "code",
   "execution_count": null,
   "id": "1eef5faf",
   "metadata": {},
   "outputs": [],
   "source": [
    "#Reveal the model\n",
    "print(model2)"
   ]
  },
  {
   "cell_type": "code",
   "execution_count": null,
   "id": "4ce952ac",
   "metadata": {},
   "outputs": [],
   "source": [
    "#r2 quadratic regression\n",
    "print(r2_score(y_test, model2(X_test['B5'])))"
   ]
  },
  {
   "cell_type": "code",
   "execution_count": null,
   "id": "6988df78",
   "metadata": {},
   "outputs": [],
   "source": [
    "n_pred2 = model2(X_test['B5'])"
   ]
  },
  {
   "cell_type": "code",
   "execution_count": null,
   "id": "1e2984df",
   "metadata": {},
   "outputs": [],
   "source": [
    "y_test"
   ]
  },
  {
   "cell_type": "code",
   "execution_count": null,
   "id": "36cb0b24",
   "metadata": {},
   "outputs": [],
   "source": [
    "polyline = np.linspace(0, 5) #start number X= 0, iterative calculation from X=0 to X= 20,  ,  \n",
    "plt.pyplot.scatter(y_test, n_pred2)\n",
    "plt.pyplot.plot(polyline, model2(polyline))\n",
    "plt.pyplot.show()"
   ]
  },
  {
   "cell_type": "code",
   "execution_count": null,
   "id": "bd89c335",
   "metadata": {},
   "outputs": [],
   "source": []
  }
 ],
 "metadata": {
  "kernelspec": {
   "display_name": "Python 3 (ipykernel)",
   "language": "python",
   "name": "python3"
  },
  "language_info": {
   "codemirror_mode": {
    "name": "ipython",
    "version": 3
   },
   "file_extension": ".py",
   "mimetype": "text/x-python",
   "name": "python",
   "nbconvert_exporter": "python",
   "pygments_lexer": "ipython3",
   "version": "3.9.13"
  }
 },
 "nbformat": 4,
 "nbformat_minor": 5
}
